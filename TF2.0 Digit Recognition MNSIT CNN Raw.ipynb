{
 "cells": [
  {
   "cell_type": "code",
   "execution_count": 183,
   "metadata": {},
   "outputs": [],
   "source": [
    "import numpy as np\n",
    "import pandas as pd\n",
    "import tensorflow as tf\n",
    "import matplotlib.pyplot as plt\n",
    "from sklearn.model_selection import train_test_split,cross_val_score\n",
    "from warnings import filterwarnings\n",
    "filterwarnings('ignore')\n",
    "%matplotlib inline\n",
    "\n",
    "train=pd.read_csv('train.csv')\n",
    "test=pd.read_csv('test.csv')\n",
    "\n",
    "train_X, val_X, train_y, val_y = train_test_split(train.iloc[:,1:], train.label, \n",
    "                                                    test_size=0.2, random_state = 42)\n",
    "train_X = train_X/255.0\n",
    "val_X = val_X/255.0"
   ]
  },
  {
   "cell_type": "markdown",
   "metadata": {},
   "source": [
    " # Check autehntication of dataset"
   ]
  },
  {
   "cell_type": "code",
   "execution_count": 185,
   "metadata": {},
   "outputs": [
    {
     "data": {
      "text/plain": [
       "Text(0.5, 1.0, '6')"
      ]
     },
     "execution_count": 185,
     "metadata": {},
     "output_type": "execute_result"
    },
    {
     "data": {
      "image/png": "[encoded data removed]",
      "text/plain": [
       "<Figure size 432x288 with 1 Axes>"
      ]
     },
     "metadata": {
      "needs_background": "light"
     },
     "output_type": "display_data"
    }
   ],
   "source": [
    "plt.imshow(np.array(train_X.loc[34941]).reshape(28,28), cmap = plt.cm.binary)\n",
    "plt.title(train_y.loc[34941])"
   ]
  },
  {
   "cell_type": "code",
   "execution_count": 71,
   "metadata": {},
   "outputs": [],
   "source": [
    "#no.of hidden units\n",
    "n_classes = 10\n",
    "input_features = train_X.shape[1]\n",
    "learning_rate = 0.001"
   ]
  },
  {
   "cell_type": "code",
   "execution_count": 72,
   "metadata": {},
   "outputs": [
    {
     "name": "stdout",
     "output_type": "stream",
     "text": [
      "error\n",
      "error\n"
     ]
    }
   ],
   "source": [
    "def convert(df):\n",
    "    try:\n",
    "        df = np.array(df, dtype='float32').reshape([-1, df.shape[1]])\n",
    "    except:\n",
    "        df = np.array(df)\n",
    "        print('error')\n",
    "    return df\n",
    "\n",
    "train_X, val_X = convert(train_X), convert(val_X)\n",
    "train_y, val_y = convert(train_y), convert(val_y)\n",
    "test_X = convert(test/255)"
   ]
  },
  {
   "cell_type": "code",
   "execution_count": 73,
   "metadata": {},
   "outputs": [],
   "source": [
    "# Use tf.data API to shuffle and batch data.\n",
    "batch_size = 256\n",
    "train_data = tf.data.Dataset.from_tensor_slices((train_X, train_y))\n",
    "train_data = train_data.repeat().shuffle(5000).batch(batch_size).prefetch(1)"
   ]
  },
  {
   "cell_type": "markdown",
   "metadata": {},
   "source": [
    "# Storing Weights and  Biases"
   ]
  },
  {
   "cell_type": "code",
   "execution_count": 97,
   "metadata": {},
   "outputs": [],
   "source": [
    "# random weights initialiser\n",
    "random = tf.initializers.RandomNormal()\n",
    "weight = {\n",
    "            'c1': tf.Variable(random([3,3,1,32]), dtype='float32'),\n",
    "            'c2': tf.Variable(random([3,3,32,32]), dtype='float32'),\n",
    "            'c3': tf.Variable(random([5,5,32,32]), dtype='float32'),\n",
    "    \n",
    "            'c4': tf.Variable(random([3,3,32,64]), dtype='float32'),\n",
    "            'c5': tf.Variable(random([3,3,64,64]), dtype='float32'),\n",
    "            'c6': tf.Variable(random([5,5,64,64]), dtype='float32'),\n",
    "    \n",
    "    \n",
    "            'fc1': tf.Variable(random([4*4*64, 128]), dtype='float32'),\n",
    "            'out': tf.Variable(random([128, n_classes]), dtype='float32')\n",
    "          }\n",
    "\n",
    "bias = {\n",
    "            'c1': tf.Variable(tf.zeros([32]), dtype='float32'),\n",
    "            'c2': tf.Variable(tf.zeros([32]), dtype='float32'),\n",
    "            'c3': tf.Variable(tf.zeros([32]), dtype='float32'),\n",
    "    \n",
    "            'c4': tf.Variable(tf.zeros([64]), dtype='float32'),\n",
    "            'c5': tf.Variable(tf.zeros([64]), dtype='float32'),\n",
    "            'c6': tf.Variable(tf.zeros([64]), dtype='float32'),\n",
    "    \n",
    "            'fc1': tf.Variable(tf.zeros([128]), dtype='float32'),\n",
    "            'out': tf.Variable(tf.zeros([n_classes]), dtype='float32')\n",
    "       }"
   ]
  },
  {
   "cell_type": "markdown",
   "metadata": {},
   "source": [
    "# Function Wrappers"
   ]
  },
  {
   "cell_type": "code",
   "execution_count": 98,
   "metadata": {},
   "outputs": [],
   "source": [
    "def conv2d(x, W, b, strides, padding):\n",
    "    x = tf.nn.conv2d(x, W, strides=[1, strides, strides, 1], padding=padding)\n",
    "    #print(np.mean(x), np.var(x))\n",
    "    #x = tf.nn.batch_normalization(x, mean=np.mean(x), variance=np.mean(x),\n",
    "     #                                 offset=None, scale=None, variance_epsilon=10**-8)\n",
    "    x = tf.nn.bias_add(x,b)\n",
    "    return tf.nn.relu(x)\n",
    "\n",
    "def maxpool2d(x, k=2):\n",
    "    return tf.nn.max_pool(x, ksize=[1, k, k, 1], strides=[1, k, k, 1], padding='SAME')\n",
    "def dropout(x, rate):\n",
    "    return tf.nn.dropout(x, rate=rate)"
   ]
  },
  {
   "cell_type": "markdown",
   "metadata": {},
   "source": [
    "# Forward Propogation"
   ]
  },
  {
   "cell_type": "code",
   "execution_count": 76,
   "metadata": {},
   "outputs": [],
   "source": [
    "def conv_forward_prop(x):\n",
    "    #grayscale\n",
    "    x = tf.reshape(x, [-1, 28, 28, 1])\n",
    "\n",
    "    #conv. layers\n",
    "    conv_layer_1 = conv2d(x, weight['c1'], bias['c1'], strides=1, padding='VALID' )\n",
    "    conv_layer_2 = conv2d(conv_layer_1, weight['c2'], bias['c2'], strides=1, padding='VALID' )\n",
    "    conv_layer_3 = conv2d(conv_layer_2, weight['c3'], bias['c3'], strides=2, padding='SAME' )\n",
    "    conv_layer_3 = dropout(conv_layer_3, rate=0.2 )\n",
    "    \n",
    "    \n",
    "    conv_layer_4 = conv2d(conv_layer_3, weight['c4'], bias['c4'], strides=1, padding='VALID' )\n",
    "    conv_layer_5 = conv2d(conv_layer_4, weight['c5'], bias['c5'], strides=1, padding='VALID' )\n",
    "    conv_layer_6 = conv2d(conv_layer_5, weight['c6'], bias['c6'], strides=2, padding='SAME' )\n",
    "    conv_layer_6 = dropout(conv_layer_6, rate=0.2 )\n",
    "    \n",
    "    #flattening\n",
    "    fc_layer = tf.reshape(conv_layer_6, [-1, weight['fc1'].shape[0]] )\n",
    "    \n",
    "    fc_layer = tf.add(tf.matmul(fc_layer,  weight['fc1']), bias['fc1'] )\n",
    "    fc_layer = tf.nn.relu(fc_layer)\n",
    "    #fc_layer = tf.nn.batch_normalization(fc_layer)\n",
    "    fc_layer = tf.nn.dropout(fc_layer, rate=0.2)\n",
    "    \n",
    "    layer_out = tf.add(tf.matmul(fc_layer, weight['out']), bias['out'] )\n",
    "    return tf.nn.softmax(layer_out)"
   ]
  },
  {
   "cell_type": "markdown",
   "metadata": {},
   "source": [
    "# Loss Function"
   ]
  },
  {
   "cell_type": "code",
   "execution_count": 77,
   "metadata": {},
   "outputs": [],
   "source": [
    "# Cross-Entropy loss function.\n",
    "def cross_entropy(y_pred, y_true):\n",
    "    # Encode label to a one hot vector.\n",
    "    y_true = tf.one_hot(y_true, depth=n_classes)\n",
    "    # Clip prediction values to avoid log(0) error.\n",
    "    y_pred = tf.clip_by_value(y_pred, 1e-9, 1.)\n",
    "    # Compute cross-entropy.\n",
    "    return tf.reduce_mean(-tf.reduce_sum(y_true * tf.math.log(y_pred)))\n",
    "\n",
    "# Accuracy metric.\n",
    "def accuracy(y_pred, y_true):\n",
    "    # Predicted class is the index of highest score in prediction vector (i.e. argmax).\n",
    "    correct_prediction = tf.equal(tf.argmax(y_pred, 1), tf.cast(y_true, tf.int64))\n",
    "    return tf.reduce_mean(tf.cast(correct_prediction, tf.float32), axis=-1)\n"
   ]
  },
  {
   "cell_type": "markdown",
   "metadata": {},
   "source": [
    "# Back Prop"
   ]
  },
  {
   "cell_type": "code",
   "execution_count": 91,
   "metadata": {},
   "outputs": [],
   "source": [
    "optimizer = tf.optimizers.Adam(learning_rate)\n",
    "\n",
    "def optimize(x, y): \n",
    "    with tf.GradientTape() as tape:\n",
    "        pred = conv_forward_prop(x)\n",
    "        loss = cross_entropy(pred, y)\n",
    "        \n",
    "    to_train = list(weight.values()) + list(bias.values())\n",
    "    gradients = tape.gradient(loss, to_train)\n",
    "        \n",
    "    optimizer.apply_gradients(zip(gradients, to_train))"
   ]
  },
  {
   "cell_type": "code",
   "execution_count": 174,
   "metadata": {},
   "outputs": [
    {
     "name": "stdout",
     "output_type": "stream",
     "text": [
      "step: 10, loss: 17.470636, accuracy: 0.984375\n",
      "step: 20, loss: 15.628522, accuracy: 0.976562\n",
      "step: 30, loss: 15.112423, accuracy: 0.972656\n",
      "step: 40, loss: 16.624254, accuracy: 0.976562\n",
      "step: 50, loss: 9.620112, accuracy: 0.984375\n",
      "step: 60, loss: 15.486656, accuracy: 0.984375\n",
      "step: 70, loss: 9.777613, accuracy: 0.984375\n",
      "step: 80, loss: 15.904358, accuracy: 0.972656\n",
      "step: 90, loss: 13.396223, accuracy: 0.980469\n",
      "step: 100, loss: 7.127341, accuracy: 0.996094\n",
      "step: 110, loss: 8.630663, accuracy: 0.984375\n",
      "step: 120, loss: 9.391678, accuracy: 0.992188\n",
      "step: 130, loss: 10.677591, accuracy: 0.988281\n",
      "step: 140, loss: 9.551406, accuracy: 0.992188\n",
      "step: 150, loss: 9.440463, accuracy: 0.988281\n",
      "step: 160, loss: 8.684832, accuracy: 0.992188\n",
      "step: 170, loss: 4.888620, accuracy: 0.996094\n",
      "step: 180, loss: 23.031889, accuracy: 0.960938\n",
      "step: 190, loss: 6.654606, accuracy: 0.988281\n",
      "step: 200, loss: 20.052725, accuracy: 0.976562\n"
     ]
    }
   ],
   "source": [
    "training_steps = 200\n",
    "display_step = 10\n",
    "# Run training for the given number of steps.\n",
    "for step, (batch_x, batch_y) in enumerate(train_data.take(training_steps), 1):\n",
    "    # Run the optimization to update W and b values.\n",
    "    optimize(batch_x, batch_y)\n",
    "    \n",
    "    if step % display_step == 0:\n",
    "        pred = conv_forward_prop(batch_x)\n",
    "        loss = cross_entropy(pred, batch_y)\n",
    "        acc = accuracy(pred, batch_y)\n",
    "        print(\"step: %i, loss: %f, accuracy: %f\" % (step, loss, acc))"
   ]
  },
  {
   "cell_type": "code",
   "execution_count": 175,
   "metadata": {},
   "outputs": [
    {
     "name": "stdout",
     "output_type": "stream",
     "text": [
      "Test Accuracy: 1.000000\n"
     ]
    }
   ],
   "source": [
    "# Test model on validation set.\n",
    "pred = conv_forward_prop(val_X[100])\n",
    "print(\"Test Accuracy: %f\" % accuracy(pred, val_y[100]))"
   ]
  },
  {
   "cell_type": "markdown",
   "metadata": {},
   "source": [
    "# Submission"
   ]
  },
  {
   "cell_type": "code",
   "execution_count": 177,
   "metadata": {},
   "outputs": [],
   "source": [
    "count = {}\n",
    "for i in range(15):\n",
    "    count[i] = 2001*i\n",
    "\n",
    "for key,value in count.items():\n",
    "    if key != 14:\n",
    "        predictions = conv_forward_prop(test_X[count[key]:count[key+1]])\n",
    "        holdout[key] = tf.argmax(predictions, axis=1).numpy()"
   ]
  },
  {
   "cell_type": "code",
   "execution_count": 178,
   "metadata": {},
   "outputs": [
    {
     "data": {
      "text/plain": [
       "28000"
      ]
     },
     "execution_count": 178,
     "metadata": {},
     "output_type": "execute_result"
    }
   ],
   "source": [
    "final=[]\n",
    "for i in range (14):\n",
    "    x = list(holdout[i])\n",
    "    final = final + x\n",
    "    x = []\n",
    "    \n",
    "len(final)"
   ]
  },
  {
   "cell_type": "code",
   "execution_count": 179,
   "metadata": {},
   "outputs": [],
   "source": [
    "pred_dict = {'ImageId': range(1,28001), 'Label': final}\n",
    "pred_df = pd.DataFrame(pred_dict)\n",
    "pred_df.to_csv('Submission2.csv', index=False )"
   ]
  },
  {
   "cell_type": "markdown",
   "metadata": {},
   "source": [
    "# PREVIEW PREDICTIONS"
   ]
  },
  {
   "cell_type": "code",
   "execution_count": 182,
   "metadata": {},
   "outputs": [
    {
     "data": {
      "image/png": "[encoded data removed]",
      "text/plain": [
       "<Figure size 1080x432 with 40 Axes>"
      ]
     },
     "metadata": {
      "needs_background": "light"
     },
     "output_type": "display_data"
    }
   ],
   "source": [
    "plt.figure(figsize=(15,6))\n",
    "for i in range(40):  \n",
    "    plt.subplot(4, 10, i+1)\n",
    "    plt.imshow(test_X[i].reshape((28,28)),cmap=plt.cm.binary)\n",
    "    plt.title(\"predict=%d\" % final[i],y=0.9)\n",
    "    plt.axis('off')\n",
    "plt.subplots_adjust(wspace=0.3, hspace=-0.1)\n",
    "plt.show()\n"
   ]
  }
 ],
 "metadata": {
  "kernelspec": {
   "display_name": "Python 3",
   "language": "python",
   "name": "python3"
  },
  "language_info": {
   "codemirror_mode": {
    "name": "ipython",
    "version": 3
   },
   "file_extension": ".py",
   "mimetype": "text/x-python",
   "name": "python",
   "nbconvert_exporter": "python",
   "pygments_lexer": "ipython3",
   "version": "3.7.4"
  }
 },
 "nbformat": 4,
 "nbformat_minor": 2
}
